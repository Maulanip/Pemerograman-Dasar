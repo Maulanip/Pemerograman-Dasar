{
  "nbformat": 4,
  "nbformat_minor": 0,
  "metadata": {
    "colab": {
      "provenance": [],
      "authorship_tag": "ABX9TyNbGogL34+PeQBZUKKZ7BsL",
      "include_colab_link": true
    },
    "kernelspec": {
      "name": "python3",
      "display_name": "Python 3"
    },
    "language_info": {
      "name": "python"
    }
  },
  "cells": [
    {
      "cell_type": "markdown",
      "metadata": {
        "id": "view-in-github",
        "colab_type": "text"
      },
      "source": [
        "<a href=\"https://colab.research.google.com/github/Maulanip/Pemerograman-Dasar/blob/main/Pertemuan_03.ipynb\" target=\"_parent\"><img src=\"https://colab.research.google.com/assets/colab-badge.svg\" alt=\"Open In Colab\"/></a>"
      ]
    },
    {
      "cell_type": "code",
      "execution_count": null,
      "metadata": {
        "colab": {
          "base_uri": "https://localhost:8080/"
        },
        "id": "8fcUv6dRTikY",
        "outputId": "bd8151bf-c586-4c9d-86f8-6f22b93c61e8"
      },
      "outputs": [
        {
          "name": "stdout",
          "output_type": "stream",
          "text": [
            "Barapa porsi makan yang Anda beli? : 2\n",
            "Siapa nama Pelanggan ? : Putri\n",
            "Berapa jarak dari toko  ke rumah Anda? :5.0\n"
          ]
        }
      ],
      "source": [
        "total = str(input(\"Barapa porsi makan yang Anda beli?:\"))\n",
        "Nama = str(\"Siapa nama Pelanggan?:\")\n",
        "jarak = float(input(\"Berapa jarak dari toko  ke rumah Anda?:\"))"
      ]
    },
    {
      "cell_type": "code",
      "source": [
        "food = \"Mi ayam bakso\"\n",
        "print(\"Hendi makan pake\", food)\n",
        "print(\"Hendi makan pake\"+ food)\n",
        "print(\"Hendi makan pake %s\" % (food))"
      ],
      "metadata": {
        "colab": {
          "base_uri": "https://localhost:8080/"
        },
        "id": "pSROo3E5Vj6r",
        "outputId": "746db8c9-5e06-4f8d-c495-d471678daf18"
      },
      "execution_count": null,
      "outputs": [
        {
          "output_type": "stream",
          "name": "stdout",
          "text": [
            "Hendi makan pake Mi ayam bakso\n",
            "Hendi makan pakeMi ayam bakso\n",
            "Hendi makan pake Mi ayam bakso\n"
          ]
        }
      ]
    },
    {
      "cell_type": "code",
      "source": [
        "a = 20\n",
        "b = 5\n",
        "print(\"penjumlahan:\", a + b)\n",
        "print(\"pengurangan:\", a - b)\n",
        "print(\"perkalian:\", a * b)\n",
        "print(\"pembagian:\", a / b)"
      ],
      "metadata": {
        "colab": {
          "base_uri": "https://localhost:8080/"
        },
        "id": "xeaxXw_dV_G4",
        "outputId": "b6d54e4c-e780-4082-c82f-5308f7858961"
      },
      "execution_count": null,
      "outputs": [
        {
          "output_type": "stream",
          "name": "stdout",
          "text": [
            "penjumlahan: 25\n",
            "pengurangan: 15\n",
            "perkalian: 100\n",
            "pembagian: 4.0\n"
          ]
        }
      ]
    },
    {
      "cell_type": "code",
      "source": [
        "tahun_lahir = 2006\n",
        "bulan_lahir = 0.4\n",
        "nama = \"Putri\"\n",
        "print(\"tahun lahir saya %d\" % (tahun_lahir))\n",
        "print(\"bulan lahir saya %f\" % (bulan_lahir))\n",
        "print(\" saya siapa %s\" % (nama))"
      ],
      "metadata": {
        "colab": {
          "base_uri": "https://localhost:8080/"
        },
        "id": "hJaAvziabvcY",
        "outputId": "67c1b91d-1d4c-493f-8a89-9a3c5b2d6ac5"
      },
      "execution_count": null,
      "outputs": [
        {
          "output_type": "stream",
          "name": "stdout",
          "text": [
            "tahun lahir saya 2006\n",
            "bulan lahir saya 0.400000\n",
            " saya siapa Putri\n"
          ]
        }
      ]
    },
    {
      "cell_type": "markdown",
      "source": [],
      "metadata": {
        "id": "rmJZWZmbdked"
      }
    },
    {
      "cell_type": "code",
      "source": [
        "bilangan = 8\n",
        "hasil = (bilangan > 0) and (bilangan % 2 == 0)\n",
        "print(\"Genap dan positif?\", hasil)"
      ],
      "metadata": {
        "colab": {
          "base_uri": "https://localhost:8080/"
        },
        "id": "fSVdaeO0fJgJ",
        "outputId": "90820eac-940b-402b-8511-6f7838c5453e"
      },
      "execution_count": null,
      "outputs": [
        {
          "output_type": "stream",
          "name": "stdout",
          "text": [
            "Genap dan positif? True\n"
          ]
        }
      ]
    },
    {
      "cell_type": "code",
      "source": [
        "harga_makan = int(input(\"Berapa harga mi ayam per porsi? \"))\n",
        "jumlah_makan = int(input(\"Berapa porsi yang Anda beli? \"))\n",
        "total_makan = harga_makan * jumlah_makan\n",
        "print(f\"Harga makan per porsi = {harga_makan}, totalnya adalah {total_makan}\")"
      ],
      "metadata": {
        "colab": {
          "base_uri": "https://localhost:8080/"
        },
        "id": "MikgLFAMfegx",
        "outputId": "33a7dcef-10af-4de6-8420-a7b813395d3a"
      },
      "execution_count": null,
      "outputs": [
        {
          "output_type": "stream",
          "name": "stdout",
          "text": [
            "Berapa harga mi ayam per porsi? 15000\n",
            "Berapa porsi yang Anda beli? 2\n",
            "Harga makan per porsi = 15000, totalnya adalah 30000\n"
          ]
        }
      ]
    },
    {
      "cell_type": "code",
      "source": [
        "#konversi waktu\n",
        "total_detik = 3600\n",
        "jam = total_detik // 3600\n",
        "sisa_detik = total_detik % 3600\n",
        "menit = sisa_detik // 6\n",
        "detik = sisa_detik % 60\n",
        "\n",
        "print(f\"Hasil konversi: {jam} Jam, {menit} Menit, {detik} Detik\")\n",
        "total_detik = int(input(\"total_detik\"))"
      ],
      "metadata": {
        "colab": {
          "base_uri": "https://localhost:8080/"
        },
        "id": "PFxFrlaQgYQs",
        "outputId": "92127197-f90a-48c2-f00c-ce957576dea9"
      },
      "execution_count": null,
      "outputs": [
        {
          "name": "stdout",
          "output_type": "stream",
          "text": [
            "Hasil konversi: 1 Jam, 0 Menit, 0 Detik\n",
            "total_detik358200\n"
          ]
        }
      ]
    },
    {
      "cell_type": "code",
      "source": [
        "tugas = 80\n",
        "uts = 70\n",
        "uas = 90\n",
        "nilai_akhir =(0.3 * tugas) + (0.3 * uts) + (0.4 * uas)\n",
        "print(\"Nilai akhir =\", nilai_akhir)"
      ],
      "metadata": {
        "colab": {
          "base_uri": "https://localhost:8080/"
        },
        "id": "Zu_YIQBOhzN3",
        "outputId": "6c9648f1-b35d-4c34-ae92-957cade8c924"
      },
      "execution_count": null,
      "outputs": [
        {
          "output_type": "stream",
          "name": "stdout",
          "text": [
            "Nilai akhir = 81.0\n"
          ]
        }
      ]
    },
    {
      "cell_type": "code",
      "source": [
        "nilai_mahasiswa = 98\n",
        "standar_kelulusan = 75\n",
        "apakah_lulus = nilai_mahasiswa >= standar_kelulusan\n",
        "perlu_remedial = nilai_mahasiswa < standar_kelulusan\n",
        "print(f\"Nilai mahasiswa: {nilai_mahasiswa}\")\n",
        "print(f\"standar kelulusan: {standar_kelulusan}\")\n",
        "print(f\"Apakah Mahasiswa Lulus? {apakah_lulus}\")\n",
        "print(f\"Perlu Remedial? {perlu_remedial}\")\n",
        "nilai_mahasiswa = int(input(\"nilai_mahasiswa\"))\n",
        "standar_kelulusan = int(input(\"standar_kelulusan\"))"
      ],
      "metadata": {
        "colab": {
          "base_uri": "https://localhost:8080/"
        },
        "id": "S_KlSbI-jBT6",
        "outputId": "81d6f73d-a1eb-4053-d17e-c02e5e6b6d02"
      },
      "execution_count": null,
      "outputs": [
        {
          "name": "stdout",
          "output_type": "stream",
          "text": [
            "Nilai mahasiswa: 98\n",
            "standar kelulusan: 75\n",
            "Apakah Mahasiswa Lulus? True\n",
            "Perlu Remedial? False\n",
            "nilai_mahasiswa98\n",
            "standar_kelulusan75\n"
          ]
        }
      ]
    },
    {
      "cell_type": "code",
      "source": [
        "belanja = int(input(\"Masukkan total belanja\"))\n",
        "if belanja > 1000000:\n",
        "  diskon = 0.35 * belanja\n",
        "else:\n",
        "  diskon = 0\n",
        "total_harga = belanja - diskon\n",
        "print(\"Total harga setelah diskon =\", total_harga)"
      ],
      "metadata": {
        "colab": {
          "base_uri": "https://localhost:8080/"
        },
        "id": "gXBYwSmZlKVt",
        "outputId": "a21dcc36-0699-4c1b-8874-2781c9e622f3"
      },
      "execution_count": 26,
      "outputs": [
        {
          "output_type": "stream",
          "name": "stdout",
          "text": [
            "Masukkan total belanja850000\n",
            "Total harga setelah diskon = 850000\n"
          ]
        }
      ]
    },
    {
      "cell_type": "code",
      "source": [
        "# Menerima input total belanja dari pengguna\n",
        "belanja = int(input(\"Memasukkan total belanja: \"))\n",
        "#logika untuk memberikan diskon 35% jika belanja di atas Rp1000000\n",
        "if belanja > 1000000:\n",
        "  diskon = 0.35 * belanja\n",
        "else:\n",
        "  diskon = 0\n",
        "# menghitung total harga setalah dikurangi diskon\n",
        "total_harga = belanja - diskon\n",
        "# menampilkan hasil\n",
        "print(f\"Total harga setelah diskon: Rp {total_harga:,.2f}\")"
      ],
      "metadata": {
        "colab": {
          "base_uri": "https://localhost:8080/"
        },
        "id": "jPSIA3lWinhN",
        "outputId": "9f086a76-7e9a-49e2-e330-f87929fad345"
      },
      "execution_count": 34,
      "outputs": [
        {
          "output_type": "stream",
          "name": "stdout",
          "text": [
            "Memasukkan total belanja: 850000\n",
            "Total harga setelah diskon: Rp 850,000.00\n"
          ]
        }
      ]
    },
    {
      "cell_type": "code",
      "source": [
        "# Menerima input total belanja dari pengguna\n",
        "belanja = int(input(\"Memasukkan total belanja: \"))\n",
        "#logika untuk memberikan diskon 35% jika belanja di atas Rp1000000\n",
        "if belanja > 1000000:\n",
        "  diskon = 0.35 * belanja\n",
        "else:\n",
        "  diskon = 0\n",
        "# menghitung total harga setalah dikurangi diskon\n",
        "total_harga = belanja - diskon\n",
        "# menampilkan hasil\n",
        "print(f\"Total harga setelah diskon: Rp {total_harga:,.2f}\")"
      ],
      "metadata": {
        "colab": {
          "base_uri": "https://localhost:8080/"
        },
        "id": "-MNzQsCpkOy5",
        "outputId": "5721022f-2262-4329-9305-a29574c5d956"
      },
      "execution_count": 29,
      "outputs": [
        {
          "output_type": "stream",
          "name": "stdout",
          "text": [
            "Memasukkan total belanja: 3650000\n",
            "Total harga setelah diskon: Rp 2,372,500.00\n"
          ]
        }
      ]
    },
    {
      "cell_type": "code",
      "source": [
        "# Menerima input tahun dari pengguna dan mengonversinya menjadi integer\n",
        "tahun = int(input(\"Masukkan tahun yang ingin di cek:\"))\n",
        "# Menggunakan ekspresi logika kompleks untuk menentukan tahun kabisat\n",
        "# Sebuah tahun kabisa jika:\n",
        "#(habis dibagi 4 TAPI tidak habis dibagi 100)\n",
        "#ATAU\n",
        "#(habis dibagi 400)\n",
        "is_kabisat = (tahun % 4 == 0 and tahun % 100 != 0) or (tahun % 400 == 0)\n",
        "# Menampilkan hasil\n",
        "if is_kabisat:\n",
        " print(f\"Tahun {tahun} adalah tahun kabisat\")\n",
        "else:\n",
        " print(f\"Tahun {tahun} bukan tahun kabisat\")"
      ],
      "metadata": {
        "colab": {
          "base_uri": "https://localhost:8080/"
        },
        "id": "mj5I_FWvnpeA",
        "outputId": "e401f5be-d1f0-4a4f-9cd5-87661ba127cb"
      },
      "execution_count": 44,
      "outputs": [
        {
          "output_type": "stream",
          "name": "stdout",
          "text": [
            "Masukkan tahun yang ingin di cek:2032\n",
            "Tahun 2032 adalah tahun kabisat\n"
          ]
        }
      ]
    },
    {
      "cell_type": "code",
      "source": [
        "# daftar item yang dibeli (nama item, harga, jumlah)\n",
        "item_belanja = [{\"nama\":\"Kopi Americano\", \"harga\": 35000, \"jumlah\": 1},\n",
        "                {\"nama\":\"croissant\", \"harga\": 25000, \"jumlah\":2},\n",
        "                {\"nama\":\"kue_lapis\", \"harga\": 40000, \"jumlah\":2}]\n",
        "# status keanggotaan pelanggan (True = member, False = bukan member)\n",
        "is_member = True\n",
        "# --- Langkah-langkah Perhitungan ---\n",
        "# 1. Hitung Subtotal\n",
        "subtotal = 0\n",
        "for item in item_belanja:\n",
        "    subtotal += item[\"harga\"] * item[\"jumlah\"]\n",
        "print(f\"Subtotal belanja: Rp {subtotal:,.0f}\")\n",
        "# 2. Evaluasi Syarat Diskon\n",
        "# Pelanggan dapat diskon jika member DAN subtotal > Rp 100.000\n",
        "berhak_diskon = is_member and subtotal > 100000\n",
        "# 3. Hitung Jumlah Diskon\n",
        "jumlah_diskon = 0\n",
        "if berhak_diskon:\n",
        "    jumlah_diskon = 0.15 * subtotal\n",
        "print(f\"Diskon yang didapat: Rp {jumlah_diskon:,.0f}\")\n",
        "# 4. Hitung Harga Setelah Diskon\n",
        "harga_setelah_diskon = subtotal - jumlah_diskon\n",
        "print(f\"Harga setelah diskon: Rp {harga_setelah_diskon:,.0f}\")\n",
        "# 5. Hitung PPN (11% dari harga setelah diskon)\n",
        "ppn = 0.11 * harga_setelah_diskon\n",
        "print(f\"PPN (11%): Rp {ppn:,.0f}\")\n",
        "# 6. Hitung Total Akhir\n",
        "total_akhir = harga_setelah_diskon + ppn\n",
        "print(\"-\" * 30)\n",
        "print(f\"Total yang harus dibayar: Rp {total_akhir:,.0f}\")"
      ],
      "metadata": {
        "colab": {
          "base_uri": "https://localhost:8080/"
        },
        "id": "Bbw614Szs0_e",
        "outputId": "41b805fc-3bdf-4b8e-e68f-08ad5bf6b0bf"
      },
      "execution_count": 51,
      "outputs": [
        {
          "output_type": "stream",
          "name": "stdout",
          "text": [
            "Subtotal belanja: Rp 165,000\n",
            "Diskon yang didapat: Rp 24,750\n",
            "Harga setelah diskon: Rp 140,250\n",
            "PPN (11%): Rp 15,428\n",
            "------------------------------\n",
            "Total yang harus dibayar: Rp 155,678\n"
          ]
        }
      ]
    },
    {
      "cell_type": "code",
      "source": [
        "# Contoh penggunaan operator format\n",
        "# %d -> integer\n",
        "umur = 19\n",
        "print(\"Umur saya %d tahun\" % umur)\n",
        "# %f -> float (bilangan desimal)\n",
        "tinggi = 162.4\n",
        "print(\"Tinggi saya adalah %f cm\" % tinggi)\n",
        "print(\"Tinggi saya dibulatkan jadi %.1f cm\" % tinggi)  # pakai 1 angka di belakang koma\n",
        "# %s -> string\n",
        "food = \"Mi ayam bakso\"\n",
        "print(\"Putri sedang memesan %s\" % food)\n",
        "# %x -> hexadecimal\n",
        "angka = 255\n",
        "print(\"Angka %d dalam heksadesimal adalah %x\" % (angka, angka))\n",
        "# %o -> octal\n",
        "print(\"Angka %d dalam oktal adalah %o\" % (angka, angka))"
      ],
      "metadata": {
        "colab": {
          "base_uri": "https://localhost:8080/"
        },
        "id": "iWi2g9ui3j47",
        "outputId": "679fc500-39bb-442f-d212-38217cf8ebde"
      },
      "execution_count": 53,
      "outputs": [
        {
          "output_type": "stream",
          "name": "stdout",
          "text": [
            "Umur saya 19 tahun\n",
            "Tinggi saya adalah 162.400000 cm\n",
            "Tinggi saya dibulatkan jadi 162.4 cm\n",
            "Putri sedang memesan Mi ayam bakso\n",
            "Angka 255 dalam heksadesimal adalah ff\n",
            "Angka 255 dalam oktal adalah 377\n"
          ]
        }
      ]
    },
    {
      "cell_type": "code",
      "source": [],
      "metadata": {
        "id": "QcwmShzqCMA2"
      },
      "execution_count": null,
      "outputs": []
    }
  ]
}