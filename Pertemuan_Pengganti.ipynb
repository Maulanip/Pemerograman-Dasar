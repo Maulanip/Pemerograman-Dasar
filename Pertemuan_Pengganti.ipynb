{
  "nbformat": 4,
  "nbformat_minor": 0,
  "metadata": {
    "colab": {
      "provenance": [],
      "authorship_tag": "ABX9TyNAehHj+gsOekyZlOZPM1jg",
      "include_colab_link": true
    },
    "kernelspec": {
      "name": "python3",
      "display_name": "Python 3"
    },
    "language_info": {
      "name": "python"
    }
  },
  "cells": [
    {
      "cell_type": "markdown",
      "metadata": {
        "id": "view-in-github",
        "colab_type": "text"
      },
      "source": [
        "<a href=\"https://colab.research.google.com/github/Maulanip/Pemerograman-Dasar/blob/main/Pertemuan_Pengganti.ipynb\" target=\"_parent\"><img src=\"https://colab.research.google.com/assets/colab-badge.svg\" alt=\"Open In Colab\"/></a>"
      ]
    },
    {
      "cell_type": "code",
      "execution_count": null,
      "metadata": {
        "colab": {
          "base_uri": "https://localhost:8080/"
        },
        "id": "oJU_msURqCBr",
        "outputId": "e53e0f8e-dc39-4de9-9132-c8bc7573a362"
      },
      "outputs": [
        {
          "output_type": "stream",
          "name": "stdout",
          "text": [
            "Sistem siap. Selamat datang kembali di sesi praktikum.\n",
            "\n",
            "--- BIODATA PRAKTIKAN ---\n",
            "Nama: [Putri Maulani]\n",
            "NIM: [4232401046]\n",
            "Prodi/Jurusan: [Teknologi Rekayasa Pembangkit Energi/Teknik Elektro]\n",
            "Asal Kampus: [Politeknik Negeri Batam]\n",
            "-------------------------\n"
          ]
        }
      ],
      "source": [
        "# SOAL 1: Fungsi Inisialisasi Sederhana\n",
        "def sapa_praktikan():\n",
        "    \"\"\"Mencetak pesan sambutan dasar.\"\"\"\n",
        "    print(\"Sistem siap. Selamat datang kembali di sesi praktikum.\")\n",
        "\n",
        "# Modifikasi: Fungsi Biodata\n",
        "def Biodata():\n",
        "    \"\"\"Menampilkan biodata lengkap praktikan.\"\"\"\n",
        "    print(\"\\n--- BIODATA PRAKTIKAN ---\")\n",
        "    print(f\"Nama: [Putri Maulani]\")\n",
        "    print(f\"NIM: [4232401046]\")\n",
        "    print(f\"Prodi/Jurusan: [Teknologi Rekayasa Pembangkit Energi/Teknik Elektro]\")\n",
        "    print(f\"Asal Kampus: [Politeknik Negeri Batam]\")\n",
        "    print(\"-------------------------\")\n",
        "\n",
        "# Pemanggilan:\n",
        "sapa_praktikan()\n",
        "Biodata()"
      ]
    },
    {
      "cell_type": "code",
      "source": [
        "# SOAL 2: Menghitung Volume Kubus\n",
        "def hitung_volume_kubus(sisi):\n",
        "    \"\"\"Menghitung volume kubus dari panjang sisinya.\"\"\"\n",
        "    return sisi ** 3\n",
        "\n",
        "# Modifikasi: Fungsi Volume Balok\n",
        "def hitung_volume_balok(panjang, lebar, tinggi):\n",
        "    \"\"\"Menghitung volume balok dari panjang, lebar, dan tingginya.\"\"\"\n",
        "    return panjang * lebar * tinggi\n",
        "\n",
        "# Pemanggilan Kubus:\n",
        "panjang_sisi = 5\n",
        "print(f\"Volume kubus dengan sisi {panjang_sisi} adalah: {hitung_volume_kubus(panjang_sisi)}\")\n",
        "\n",
        "# Pemanggilan Balok:\n",
        "p = 10\n",
        "l = 4\n",
        "t = 3\n",
        "volume_balok = hitung_volume_balok(p, l, t)\n",
        "print(f\"Volume balok dengan p={p}, l={l}, dan t={t} adalah: {volume_balok}\")"
      ],
      "metadata": {
        "colab": {
          "base_uri": "https://localhost:8080/"
        },
        "id": "sIOIEyAVtTNH",
        "outputId": "11e64fd1-f09e-4fed-a729-ce305fbde089"
      },
      "execution_count": null,
      "outputs": [
        {
          "output_type": "stream",
          "name": "stdout",
          "text": [
            "Volume kubus dengan sisi 5 adalah: 125\n",
            "Volume balok dengan p=10, l=4, dan t=3 adalah: 120\n"
          ]
        }
      ]
    },
    {
      "cell_type": "code",
      "source": [
        "# SOAL 3: Fungsi dengan Parameter List dan Perulangan (Dilengkapi dan Dimodifikasi)\n",
        "def hitung_rata_rata_validated(data_nilai):\n",
        "    \"\"\"\n",
        "    Menghitung rata-rata dari list angka menggunakan perulangan for.\n",
        "    Nilai di luar rentang 0-100 akan diabaikan (modifikasi).\n",
        "    \"\"\"\n",
        "    total = 0\n",
        "    jumlah_valid = 0\n",
        "\n",
        "    # Perulangan untuk menjumlahkan nilai\n",
        "    for nilai in data_nilai:\n",
        "        # Pengecekan (Modifikasi): Mengabaikan nilai yang tidak valid\n",
        "        if nilai < 0 or nilai > 100:\n",
        "            print(f\"[CATATAN] Nilai {nilai} diabaikan karena tidak valid.\")\n",
        "            continue  # Lanjut ke nilai berikutnya\n",
        "\n",
        "        # Jika nilai valid, tambahkan ke total dan hitung jumlah\n",
        "        total += nilai\n",
        "        jumlah_valid += 1\n",
        "\n",
        "    # Pembagian untuk rata-rata\n",
        "    if jumlah_valid > 0:\n",
        "        return total / jumlah_valid\n",
        "\n",
        "    return 0 # Kembalikan 0 jika list kosong atau semua nilai tidak valid\n",
        "\n",
        "# Pemanggilan:\n",
        "# Contoh data dengan beberapa nilai tidak valid (-10 dan 110)\n",
        "nilai_praktikan_uji = [85, 78, 92, -10, 65, 110, 90]\n",
        "\n",
        "rata_rata_hasil = hitung_rata_rata_validated(nilai_praktikan_uji)\n",
        "\n",
        "print(\"\\n-------------------------------------------\")\n",
        "print(f\"Data nilai yang diuji: {nilai_praktikan_uji}\")\n",
        "print(f\"Nilai rata-rata kelas (valid) adalah: {rata_rata_hasil}\")\n",
        "print(\"-------------------------------------------\")"
      ],
      "metadata": {
        "colab": {
          "base_uri": "https://localhost:8080/"
        },
        "id": "EGFa2aslvZol",
        "outputId": "f922e683-694e-422e-c480-bc0f2b6924ce"
      },
      "execution_count": null,
      "outputs": [
        {
          "output_type": "stream",
          "name": "stdout",
          "text": [
            "[CATATAN] Nilai -10 diabaikan karena tidak valid.\n",
            "[CATATAN] Nilai 110 diabaikan karena tidak valid.\n",
            "\n",
            "-------------------------------------------\n",
            "Data nilai yang diuji: [85, 78, 92, -10, 65, 110, 90]\n",
            "Nilai rata-rata kelas (valid) adalah: 82.0\n",
            "-------------------------------------------\n"
          ]
        }
      ]
    },
    {
      "cell_type": "code",
      "source": [
        "def tentukan_predikat_validated(skor):\n",
        "    \"\"\"\n",
        "    Menentukan predikat (A, B, C, D, E) berdasarkan skor.\n",
        "    Dilengkapi dengan validasi untuk memastikan input adalah angka (int/float).\n",
        "    \"\"\"\n",
        "\n",
        "    # 1. MODIFIKASI: Pengecekan Tipe Data\n",
        "    # Memastikan skor adalah bilangan bulat atau desimal\n",
        "    if not isinstance(skor, (int, float)):\n",
        "        return f\"ERROR: Input '{skor}' tidak valid. Harus berupa angka (int/float).\"\n",
        "\n",
        "    # 2. LOGIKA PERCABANGAN (Jawaban Soal Asli)\n",
        "\n",
        "    # Kriteria A (>= 85)\n",
        "    if skor >= 85:\n",
        "        return \"A\"\n",
        "\n",
        "    # Kriteria B (70 - 84)\n",
        "    elif skor >= 70:  # BAGIAN YANG DIISI: skor >= 70\n",
        "        return \"B\"\n",
        "\n",
        "    # Kriteria C (60 - 69)\n",
        "    elif skor >= 60:\n",
        "        return \"C\"  # BAGIAN YANG DIISI: \"C\"\n",
        "\n",
        "    # Kriteria D (50 - 59)\n",
        "    elif skor >= 50:\n",
        "        return \"D\"\n",
        "\n",
        "    # Kriteria E (< 50)\n",
        "    else:\n",
        "        return \"E\"\n",
        "\n",
        "# --- Pemanggilan Uji Coba ---\n",
        "\n",
        "print(\"=== Hasil Penentuan Predikat ===\")\n",
        "# Uji coba sesuai soal asli\n",
        "print(f\"Skor 75 mendapat predikat: {tentukan_predikat_validated(75)}\")\n",
        "print(f\"Skor 48 mendapat predikat: {tentukan_predikat_validated(48)}\")\n",
        "\n",
        "# Uji coba dengan modifikasi\n",
        "print(f\"Skor 85 mendapat predikat: {tentukan_predikat_validated(85)}\")\n",
        "print(f\"Skor 69 mendapat predikat: {tentukan_predikat_validated(69)}\")\n",
        "print(f\"Skor 55.5 mendapat predikat: {tentukan_predikat_validated(55.5)}\")\n",
        "print(f\"Input Teks mendapat predikat: {tentukan_predikat_validated('lulus')}\")\n"
      ],
      "metadata": {
        "colab": {
          "base_uri": "https://localhost:8080/"
        },
        "id": "y-RpEwvWvsBo",
        "outputId": "f219e93d-6c61-48db-be57-da8c7140e1dc"
      },
      "execution_count": null,
      "outputs": [
        {
          "output_type": "stream",
          "name": "stdout",
          "text": [
            "=== Hasil Penentuan Predikat ===\n",
            "Skor 75 mendapat predikat: B\n",
            "Skor 48 mendapat predikat: E\n",
            "Skor 85 mendapat predikat: A\n",
            "Skor 69 mendapat predikat: C\n",
            "Skor 55.5 mendapat predikat: D\n",
            "Input Teks mendapat predikat: ERROR: Input 'lulus' tidak valid. Harus berupa angka (int/float).\n"
          ]
        }
      ]
    },
    {
      "cell_type": "code",
      "source": [
        "def hitung_faktorial_validated(n):\n",
        "    \"\"\"\n",
        "    Menghitung faktorial dari bilangan n menggunakan loop while.\n",
        "    Menangani kasus khusus n=0 (0! = 1) dan n<0 (Error).\n",
        "    \"\"\"\n",
        "\n",
        "    # Penanganan Kasus Khusus\n",
        "    if n < 0:\n",
        "        return \"ERROR: Faktorial tidak terdefinisi untuk bilangan negatif.\"\n",
        "    if n == 0:\n",
        "        return 1\n",
        "\n",
        "    # Logika Faktorial untuk n > 0 menggunakan While\n",
        "    hasil = 1\n",
        "\n",
        "    # Gunakan variabel n itu sendiri karena fungsinya hanya menghitung\n",
        "    while n > 1:\n",
        "        hasil *= n\n",
        "        n -= 1  # Operasi pengurangan dengan penugasan\n",
        "\n",
        "    return hasil\n",
        "\n",
        "# Pemanggilan:\n",
        "bilangan_n_1 = 4\n",
        "bilangan_n_2 = 0\n",
        "bilangan_n_3 = -2\n",
        "\n",
        "print(f\"Faktorial dari {bilangan_n_1} adalah: {hitung_faktorial_validated(bilangan_n_1)}\")\n",
        "print(f\"Faktorial dari {bilangan_n_2} adalah: {hitung_faktorial_validated(bilangan_n_2)}\")\n",
        "print(f\"Faktorial dari {bilangan_n_3} adalah: {hitung_faktorial_validated(bilangan_n_3)}\")"
      ],
      "metadata": {
        "colab": {
          "base_uri": "https://localhost:8080/"
        },
        "id": "Ogr4dm6wv8tW",
        "outputId": "1d7dee51-7fc9-420f-ff4e-b89d641faa92"
      },
      "execution_count": null,
      "outputs": [
        {
          "output_type": "stream",
          "name": "stdout",
          "text": [
            "Faktorial dari 4 adalah: 24\n",
            "Faktorial dari 0 adalah: 1\n",
            "Faktorial dari -2 adalah: ERROR: Faktorial tidak terdefinisi untuk bilangan negatif.\n"
          ]
        }
      ]
    },
    {
      "cell_type": "code",
      "source": [
        "# SOAL 6: Analisis Data Suhu Ekstrem (for dan if/elif)\n",
        "def analisis_suhu_fleksibel(data_suhu, batas_panas=35, batas_dingin=15):\n",
        "    \"\"\"\n",
        "    Menghitung jumlah hari Panas dan Dingin dari data_suhu.\n",
        "    Dilengkapi parameter opsional untuk batas Panas dan Dingin.\n",
        "    \"\"\"\n",
        "    panas_count = 0  # INISIALISASI LENGKAP: 0\n",
        "    dingin_count = 0 # INISIALISASI LENGKAP: 0\n",
        "\n",
        "    for suhu in data_suhu:\n",
        "        if suhu >= batas_panas:\n",
        "            panas_count += 1\n",
        "        elif suhu <= batas_dingin: # KONDISI LENGKAP: suhu <= batas_dingin\n",
        "            dingin_count += 1\n",
        "\n",
        "    return panas_count, dingin_count\n",
        "\n",
        "# Pemanggilan:\n",
        "suhu_mingguan = [36, 30, 14, 25, 38, 16, 28]\n",
        "\n",
        "# 1. Pemanggilan dengan nilai default (sesuai soal asli)\n",
        "jumlah_panas, jumlah_dingin = analisis_suhu_fleksibel(suhu_mingguan)\n",
        "print(f\"Jumlah hari Panas (>=35°C): {jumlah_panas}\")\n",
        "print(f\"Jumlah hari Dingin (<=15°C): {jumlah_dingin}\")\n",
        "\n",
        "# 2. Pemanggilan dengan batas khusus (Modifikasi)\n",
        "jumlah_panas_khusus, jumlah_dingin_khusus = analisis_suhu_fleksibel(\n",
        "    data_suhu=suhu_mingguan,\n",
        "    batas_panas=30, # Batas baru: Panas >= 30\n",
        "    batas_dingin=20  # Batas baru: Dingin <= 20\n",
        ")\n",
        "print(f\"\\nAnalisis Khusus (30°C/20°C):\")\n",
        "print(f\"Jumlah hari Panas (>=30°C): {jumlah_panas_khusus}\") # Suhu 36, 30, 38 -> 3 hari\n",
        "print(f\"Jumlah hari Dingin (<=20°C): {jumlah_dingin_khusus}\") # Suhu 14, 16 -> 2 hari"
      ],
      "metadata": {
        "colab": {
          "base_uri": "https://localhost:8080/"
        },
        "id": "zIfRQB48wtVK",
        "outputId": "07106c16-8b01-4d7e-cfa9-b1e97c12396a"
      },
      "execution_count": null,
      "outputs": [
        {
          "output_type": "stream",
          "name": "stdout",
          "text": [
            "Jumlah hari Panas (>=35°C): 2\n",
            "Jumlah hari Dingin (<=15°C): 1\n",
            "\n",
            "Analisis Khusus (30°C/20°C):\n",
            "Jumlah hari Panas (>=30°C): 3\n",
            "Jumlah hari Dingin (<=20°C): 2\n"
          ]
        }
      ]
    },
    {
      "cell_type": "code",
      "source": [],
      "metadata": {
        "id": "eME6xYjI3dnm"
      },
      "execution_count": null,
      "outputs": []
    }
  ]
}