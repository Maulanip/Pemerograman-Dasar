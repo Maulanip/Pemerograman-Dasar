{
  "nbformat": 4,
  "nbformat_minor": 0,
  "metadata": {
    "colab": {
      "provenance": [],
      "authorship_tag": "ABX9TyNjcaf+zu/bL1bGetHZRS/H",
      "include_colab_link": true
    },
    "kernelspec": {
      "name": "python3",
      "display_name": "Python 3"
    },
    "language_info": {
      "name": "python"
    }
  },
  "cells": [
    {
      "cell_type": "markdown",
      "metadata": {
        "id": "view-in-github",
        "colab_type": "text"
      },
      "source": [
        "<a href=\"https://colab.research.google.com/github/Maulanip/Pemerograman-Dasar/blob/main/pertemuan_04.ipynb\" target=\"_parent\"><img src=\"https://colab.research.google.com/assets/colab-badge.svg\" alt=\"Open In Colab\"/></a>"
      ]
    },
    {
      "cell_type": "code",
      "execution_count": 1,
      "metadata": {
        "colab": {
          "base_uri": "https://localhost:8080/"
        },
        "id": "2uzHTv11_j-8",
        "outputId": "8223b9c1-f98f-47ea-b9be-8891cfae7b92"
      },
      "outputs": [
        {
          "output_type": "stream",
          "name": "stdout",
          "text": [
            "Pengunjung adalah orang dewasa.\n"
          ]
        }
      ],
      "source": [
        "# Variabel untuk menyimpan umur pengunjung\n",
        "umur: int = 20\n",
        "\n",
        "#progras hanya akan mencetak pesan jika umur di atas 17\n",
        "if umur > 17:\n",
        "  print(\"Pengunjung adalah orang dewasa.\")"
      ]
    },
    {
      "cell_type": "code",
      "source": [
        "username = input(\"Memasukkan username: \")\n",
        "password = input(\"Memasukkan password: \")\n",
        "if username == \"admin\" and password == \"1234\":\n",
        "  print(\"Login berhasil\")\n",
        "else:\n",
        "  print(\"Login gagal\")"
      ],
      "metadata": {
        "colab": {
          "base_uri": "https://localhost:8080/"
        },
        "id": "s3xQ4spT_lIZ",
        "outputId": "e1f3c8ba-b62b-4519-b461-a21c4bed49ff"
      },
      "execution_count": 2,
      "outputs": [
        {
          "output_type": "stream",
          "name": "stdout",
          "text": [
            "Memasukkan username: admin\n",
            "Memasukkan password: 1234\n",
            "Login berhasil\n"
          ]
        }
      ]
    },
    {
      "cell_type": "code",
      "source": [
        "# print untuk mengecek bonus dan diskon\n",
        "total_belanja = input(\"Total belanja: Rp \")\n",
        "# jumlah yang harus dibayar adalah berapa total belanjaannya\n",
        "# tapi kalau dapat diskon akan berkurang\n",
        "bayar = int(total_belanja)\n",
        "# jika dia belanja di atas 100rb maka berikan bonus dan diskon\n",
        "if int(total_belanja) > 100000:\n",
        "  print(\"Selamat karena Belanja > Rp. 100.000 anda mendapat Voucher Makan \")\n",
        "  print(\"dan diskon 5%\")\n",
        "  # hitung diskonnya\n",
        "  diskon = int(total_belanja) * 5/100 #5%\n",
        "  bayar = int(total_belanja) - diskon\n",
        "  # cetak struk\n",
        "  print(\"Total yang harus dibayar: Rp %s\" % bayar)\n",
        "  print(\"Terima kasih sudah berbelanja di Toko Kami\")\n",
        "  print(\"Kami Tunggu kunjungan anda selanjutnya.\")"
      ],
      "metadata": {
        "colab": {
          "base_uri": "https://localhost:8080/"
        },
        "id": "V99-jXx3_3Ek",
        "outputId": "3688081e-2672-463c-83bf-bea484646187"
      },
      "execution_count": 3,
      "outputs": [
        {
          "output_type": "stream",
          "name": "stdout",
          "text": [
            "Total belanja: Rp 2000000\n",
            "Selamat karena Belanja > Rp. 100.000 anda mendapat Voucher Makan \n",
            "dan diskon 5%\n",
            "Total yang harus dibayar: Rp 1900000.0\n",
            "Terima kasih sudah berbelanja di Toko Kami\n",
            "Kami Tunggu kunjungan anda selanjutnya.\n"
          ]
        }
      ]
    },
    {
      "cell_type": "code",
      "source": [
        "# Variabel untuk memeriksa apakah ada notifikasi baru\n",
        "ada_notifikasi_baru: bool = True\n",
        "if ada_notifikasi_baru:\n",
        "  print(\"Anda memiliki pesan baru!\")"
      ],
      "metadata": {
        "id": "m74-MmcCZOv1",
        "colab": {
          "base_uri": "https://localhost:8080/"
        },
        "outputId": "ebb3b3c5-94a4-4ef5-fa53-9eaafd6a3185"
      },
      "execution_count": 4,
      "outputs": [
        {
          "output_type": "stream",
          "name": "stdout",
          "text": [
            "Anda memiliki pesan baru!\n"
          ]
        }
      ]
    },
    {
      "cell_type": "code",
      "source": [
        "umur = input(\"Berapa umur kamu: \")\n",
        "if int(umur) >= 18:\n",
        "  print(\"Kamu boleh membuat SIM\")\n",
        "else:\n",
        "  print(\"Kamu belum boleh membuat SIM\")"
      ],
      "metadata": {
        "colab": {
          "base_uri": "https://localhost:8080/"
        },
        "id": "BkWVbXMBAMxx",
        "outputId": "83afdeab-5b58-49a6-b468-d90e7a628e94"
      },
      "execution_count": 5,
      "outputs": [
        {
          "output_type": "stream",
          "name": "stdout",
          "text": [
            "Berapa umur kamu: 190\n",
            "Kamu boleh membuat SIM\n"
          ]
        }
      ]
    },
    {
      "cell_type": "code",
      "source": [
        "total_belanja = 1000000\n",
        "\n",
        "if total_belanja > 200000:\n",
        "  diskon = total_belanja * 0.10\n",
        "  total_bayar = total_belanja - diskon\n",
        "  print(f\"Anda memdapat diskon! Total bayar: Rp {total_bayar}\")\n",
        "else:\n",
        "  print(f\"Total bayar: Rp {total_belanja}\")"
      ],
      "metadata": {
        "colab": {
          "base_uri": "https://localhost:8080/"
        },
        "id": "F6C7f5mqAR71",
        "outputId": "9b8506d3-61a7-409d-b1ca-dff2f603d49a"
      },
      "execution_count": 6,
      "outputs": [
        {
          "output_type": "stream",
          "name": "stdout",
          "text": [
            "Anda memdapat diskon! Total bayar: Rp 900000.0\n"
          ]
        }
      ]
    },
    {
      "cell_type": "code",
      "source": [
        "angka = int(input(\"Memasukkan bilangan: \"))\n",
        "\n",
        "if angka % 2 == 0:\n",
        " print(\"Bilangan Genap\")\n",
        "else:\n",
        "  print(\"Bilangan Ganjil\")"
      ],
      "metadata": {
        "colab": {
          "base_uri": "https://localhost:8080/"
        },
        "id": "0cQbingDAWls",
        "outputId": "63e10e53-aa29-446c-e39c-694799e26b48"
      },
      "execution_count": 7,
      "outputs": [
        {
          "output_type": "stream",
          "name": "stdout",
          "text": [
            "Memasukkan bilangan: 19\n",
            "Bilangan Ganjil\n"
          ]
        }
      ]
    },
    {
      "cell_type": "code",
      "source": [
        "nilai = 80\n",
        "if nilai >= 85:\n",
        "  print(\"Luar biasa! Nilai A\")\n",
        "elif nilai >= 70:\n",
        "  print(\"Bagus! Nilai B\")\n",
        "elif nilai >= 60:\n",
        "  print(\"Cukup. Nilai C\")\n",
        "else:\n",
        "  print(\"Nilai kurang, perlu belajar lebih giat.\")\n"
      ],
      "metadata": {
        "colab": {
          "base_uri": "https://localhost:8080/"
        },
        "id": "eva2mD-6AZWM",
        "outputId": "8a5bf10c-4eff-4837-a624-9eceb886e7b9"
      },
      "execution_count": 8,
      "outputs": [
        {
          "output_type": "stream",
          "name": "stdout",
          "text": [
            "Bagus! Nilai B\n"
          ]
        }
      ]
    },
    {
      "cell_type": "code",
      "source": [
        "# Menentukan jenis diskon berdasarkan hari\n",
        "hari: str = \"Sabtu\"\n",
        "if hari == \"Sabtu\" or hari == \"Minggu\":\n",
        " diskon: float = 0.20 # Diskon 20%\n",
        " print(f\"Selamat! Anda mendapat diskon akhir pekan sebesar {diskon*100}%.\")\n",
        "elif hari == \"Jumat\":\n",
        "  diskon: float = 0.15 # Diskon 15%\n",
        "  print(f\"Diskon spesial Juamt! Anda mendapat potongan {diskon*100}%.\")\n",
        "else:\n",
        "  diskon: float = 0.05 # Diskon 5%\n",
        "  print(f\"Anda mendapat dikon hari biasa sebesar {diskon*100}%.\")"
      ],
      "metadata": {
        "colab": {
          "base_uri": "https://localhost:8080/"
        },
        "id": "fksZ_fjsAddy",
        "outputId": "dd6ffa90-7400-4bfe-9ef8-d0743172d837"
      },
      "execution_count": 9,
      "outputs": [
        {
          "output_type": "stream",
          "name": "stdout",
          "text": [
            "Selamat! Anda mendapat diskon akhir pekan sebesar 20.0%.\n"
          ]
        }
      ]
    },
    {
      "cell_type": "code",
      "source": [
        "rupiah = int(input(\"Memasukkan jumlah uang (Rp): \"))\n",
        "print(\"1. Dollar (USD)\")\n",
        "print(\"2. Euro (EUR)\")\n",
        "print(\"3. Yen (JPY)\")\n",
        "pilih = int(input(\"Pilih konversi (1/2/3): \"))\n",
        "\n",
        "if pilih == 1:\n",
        "  print(\"Dalam Dollar:\", rupiah / 15000)\n",
        "elif pilih == 2:\n",
        "  print(\"Dalam Euro:\", rupiah / 16000)\n",
        "elif pilih == 3:\n",
        "  print(\"Dalam Yen:\", rupiah / 120)\n",
        "else:\n",
        "  print(\"Pilihan tidak valid\")"
      ],
      "metadata": {
        "colab": {
          "base_uri": "https://localhost:8080/"
        },
        "id": "GWX3lxaUAhFX",
        "outputId": "e8d75b5b-a768-48c2-8682-db0631412ed5"
      },
      "execution_count": 11,
      "outputs": [
        {
          "output_type": "stream",
          "name": "stdout",
          "text": [
            "Memasukkan jumlah uang (Rp): 3000000\n",
            "1. Dollar (USD)\n",
            "2. Euro (EUR)\n",
            "3. Yen (JPY)\n",
            "Pilih konversi (1/2/3): 2\n",
            "Dalam Euro: 187.5\n"
          ]
        }
      ]
    },
    {
      "cell_type": "code",
      "source": [
        "# Minta input angka dari pengguna\n",
        "angka_string = input(\"Masukkan sebuah angka: \")\n",
        "\n",
        "# UBAH TIPE DATA: Konversi string menjadi integer\n",
        "# Ini adalah langkah kunci agar bisa melakukan operasi matematika (%)\n",
        "angka = int(angka_string)\n",
        "\n",
        "# Cek apakah angka habis dibagi 5 (kelipatan 5)\n",
        "if angka % 5 == 0:\n",
        "    print(\"Kelipatan 5\")\n",
        "else:\n",
        "    print(\"Bukan kelipatan 5\")"
      ],
      "metadata": {
        "colab": {
          "base_uri": "https://localhost:8080/"
        },
        "id": "KQ8lUP0OAjx1",
        "outputId": "2aec75c0-2124-45bb-ec1b-85a7e4b812c4"
      },
      "execution_count": 12,
      "outputs": [
        {
          "output_type": "stream",
          "name": "stdout",
          "text": [
            "Masukkan sebuah angka: 212\n",
            "Bukan kelipatan 5\n"
          ]
        }
      ]
    },
    {
      "cell_type": "code",
      "source": [
        "# Minta input tahun dari pengguna\n",
        "tahun = int(input(\"Masukkan tahun untuk dicek: \"))\n",
        "# Cek kondisi tahun kabisat\n",
        "if (tahun % 400 == 0) or (tahun % 4 == 0 and tahun % 100 != 0):\n",
        "  print(f\"Tahun {tahun} adalah Tahun Kabisat\")\n",
        "else:\n",
        "  print(f\"Tahun {tahun} bukan Tahun Kabisat\")"
      ],
      "metadata": {
        "colab": {
          "base_uri": "https://localhost:8080/"
        },
        "id": "lPXbG2nIAtV_",
        "outputId": "128e07b9-1503-49eb-de78-27e0763dcd90"
      },
      "execution_count": 13,
      "outputs": [
        {
          "output_type": "stream",
          "name": "stdout",
          "text": [
            "Masukkan tahun untuk dicek: 2004\n",
            "Tahun 2004 adalah Tahun Kabisat\n"
          ]
        }
      ]
    },
    {
      "cell_type": "code",
      "source": [
        "# Soal matematika\n",
        "jawaban_benar = 100 * 9\n",
        "print(\"Soal: Berapa hasil dari 100 dikali 9?\")\n",
        "\n",
        "# Minta input jawaban dari pengguna\n",
        "# Catatan: Program akan crash jika Anda memasukkan huruf/teks.\n",
        "jawaban_user = int(input(\"Masukkan jawaban Anda: \"))\n",
        "\n",
        "# Cek jawaban\n",
        "if jawaban_user == jawaban_benar:\n",
        "    print(\"Jawaban Anda Benar! \")\n",
        "\n",
        "# KONDISI 1: Cek apakah jawaban user LEBIH BESAR, tapi bedanya <= 5\n",
        "# Contoh: 123 - 120 = 3 (<= 5)\n",
        "elif jawaban_user - jawaban_benar <= 5 and jawaban_user > jawaban_benar:\n",
        "    print(\"Jawaban Anda kelebihan. Coba lagi!\")\n",
        "\n",
        "# KONDISI 2: Cek apakah jawaban user LEBIH KECIL, tapi bedanya >= -5\n",
        "# Contoh: 116 - 120 = -4 (>= -5)\n",
        "elif jawaban_user - jawaban_benar >= -5 and jawaban_user < jawaban_benar:\n",
        "    print(\"Jawaban Anda kekurangan. Coba lagi!\")\n",
        "\n",
        "else:\n",
        "    print(f\"Jawaban Anda Salah. Jawaban yang benar adalah {jawaban_benar}.\")"
      ],
      "metadata": {
        "colab": {
          "base_uri": "https://localhost:8080/"
        },
        "id": "kwiV12EbA7-z",
        "outputId": "1990b452-589d-48df-94af-295334044ebb"
      },
      "execution_count": 15,
      "outputs": [
        {
          "output_type": "stream",
          "name": "stdout",
          "text": [
            "Soal: Berapa hasil dari 100 dikali 9?\n",
            "Masukkan jawaban Anda: 600\n",
            "Jawaban Anda Salah. Jawaban yang benar adalah 900.\n"
          ]
        }
      ]
    },
    {
      "cell_type": "code",
      "source": [
        "# Definisikan daftar nama bulan (indeks 0 tidak dipakai, dimulai dari indeks 1)\n",
        "nama_bulan = [\n",
        "    \"\",\n",
        "    \"Januari\", \"Februari\", \"Maret\", \"April\", \"Mei\", \"Juni\",\n",
        "    \"Juli\", \"Agustus\", \"September\", \"Oktober\", \"November\", \"Desember\"\n",
        "]\n",
        "\n",
        "# Minta input angka bulan (1-12)\n",
        "# Baris ini rata kiri\n",
        "angka_bulan = int(input(\"Masukkan angka bulan (1-12): \"))\n",
        "\n",
        "# Cek validitas input dan tampilkan nama bulan\n",
        "# Baris 'if' ini juga rata kiri\n",
        "if 1 <= angka_bulan <= 12:\n",
        "    # Blok kode ini terindentasi (sudah benar)\n",
        "    print(f\"Bulan ke-{angka_bulan} adalah {nama_bulan[angka_bulan]}.\")\n",
        "else:\n",
        "    # Blok kode ini terindentasi (sudah benar)\n",
        "    print(\"Input salah. Harap masukkan angka bulan antara 1 hingga 12.\")"
      ],
      "metadata": {
        "colab": {
          "base_uri": "https://localhost:8080/"
        },
        "id": "4t8B5dazBD0B",
        "outputId": "8b453841-0477-4020-d09a-f5897d41fc11"
      },
      "execution_count": 16,
      "outputs": [
        {
          "output_type": "stream",
          "name": "stdout",
          "text": [
            "Masukkan angka bulan (1-12): 9\n",
            "Bulan ke-9 adalah September.\n"
          ]
        }
      ]
    },
    {
      "cell_type": "code",
      "source": [
        "# Minta input jam (0-23)\n",
        "jam = int(input(\"Masukkan jam (0-23): \"))\n",
        "\n",
        "# Tentukan sapaan berdasarkan jam menggunakan if/elif/else\n",
        "# Baris 'if' ini rata kiri\n",
        "if 0 <= jam <= 11:\n",
        "    sapaan = \"Selamat Pagi\"\n",
        "elif 12 <= jam <= 15:\n",
        "    sapaan = \"Selamat Siang\"\n",
        "elif 16 <= jam <= 18:\n",
        "    sapaan = \"Selamat Sore\"\n",
        "elif 19 <= jam <= 23:\n",
        "    sapaan = \"Selamat Malam\"\n",
        "else:\n",
        "    sapaan = \"Input jam tidak valid. Harap masukkan jam antara 0 hingga 23.\"\n",
        "\n",
        "# Baris 'print' ini juga harus rata kiri\n",
        "print(sapaan)"
      ],
      "metadata": {
        "colab": {
          "base_uri": "https://localhost:8080/"
        },
        "id": "JVG6ZV5PBKEp",
        "outputId": "19e56f7e-bc63-473b-be0d-ebc6952f8d4a"
      },
      "execution_count": 17,
      "outputs": [
        {
          "output_type": "stream",
          "name": "stdout",
          "text": [
            "Masukkan jam (0-23): 21\n",
            "Selamat Malam\n"
          ]
        }
      ]
    },
    {
      "cell_type": "code",
      "source": [
        "print(\"=\"*30)\n",
        "print(\"SELAMAT DATANG DI KAFE GEMINI\")\n",
        "print(\"=\"*30)\n",
        "print(\"Menu Makanan & Minuman:\")\n",
        "print(\"1. Kopi Hitam   - Rp 12.000\")\n",
        "print(\"2. Teh Manis    - Rp  8.000\")\n",
        "print(\"3. Roti Bakar   - Rp 15.000\")\n",
        "print(\"4. Mie Instan   - Rp 10.000\")\n",
        "print(\"=\")\n",
        "\n",
        "pilihan_str: str = input(\"Silakan masukkan nomor pilihan Anda (1-4): \")\n",
        "pilihan: int = int(pilihan_str)\n",
        "nama_pesanan: str =\"\"\n",
        "harga: int = 0\n",
        "diskon_persen: float = 0.0 # Inisialisasi variabel diskon\n",
        "\n",
        "if pilihan == 1:\n",
        "    nama_pesanan = \"Kopi Hitam\"\n",
        "    harga = 12000\n",
        "    print(f\"Anda memesan: {nama_pesanan} dengan harga Rp {harga}\")\n",
        "elif pilihan == 2:\n",
        "    nama_pesanan = \"Teh Manis\"\n",
        "    harga = 8000\n",
        "    print(f\"Anda memesan:  {nama_pesanan} dengan harga Rp {harga}\")\n",
        "elif pilihan == 3:\n",
        "    nama_pesanan = \"Roti Bakar\"\n",
        "    harga = 15000\n",
        "    print(f\"Anda memesan: {nama_pesanan} dengan harga Rp {harga}\")\n",
        "elif pilihan == 4:\n",
        "    nama_pesanan = \"Mie Instan\"\n",
        "    harga = 10000\n",
        "    print(f\"Anda memesan: {nama_pesanan} dengan harga Rp {harga}\")\n",
        "else:\n",
        "    print(\"Maaf, pilihan menu tidak valid. Silahkan jalankan ulang program.\")\n",
        "\n",
        "# ----------------- LOGIKA DISKON (Menggunakan 'harga' sebagai Total) -----------------\n",
        "print(\"_\" * 30)\n",
        "# Cek kondisi diskon dari yang tertinggi (70%) ke terendah (30%)\n",
        "if harga >= 70000:\n",
        "    diskon_persen = 0.70 # Diskon 70%\n",
        "    print(\"Selamat! Anda mendapatkan Diskon 70%!\")\n",
        "elif harga >= 50000:\n",
        "    diskon_persen = 0.50 # Diskon 50%\n",
        "    print(\"Selamat! Anda mendapatkan Diskon 50%!\")\n",
        "elif harga >= 30000:\n",
        "    diskon_persen = 0.30 # Diskon 30%\n",
        "    print(\"Selamat! Anda mendapatkan Diskon 30%!\")\n",
        "else:\n",
        "    diskon_persen = 0.0\n",
        "    print(\"Tidak ada diskon yang diterapkan.\")\n",
        "\n",
        "# Hitung Harga Akhir setelah Diskon\n",
        "jumlah_diskon: int = int(harga * diskon_persen)\n",
        "harga_setelah_diskon: int = harga - jumlah_diskon\n",
        "\n",
        "# ----------------- LOGIKA PEMBAYARAN -----------------\n",
        "if harga > 0:\n",
        "    print(f\"Total awal: Rp {harga}\")\n",
        "    if diskon_persen > 0.0:\n",
        "        print(f\"Diskon    : Rp {jumlah_diskon} ({int(diskon_persen*100)}%)\")\n",
        "\n",
        "    uang_dibayar_str: str = input(f\"Total yang harus dibayar: Rp {harga_setelah_diskon}. Masukkan jumlah uang Anda: Rp \")\n",
        "    uang_dibayar: int = int(uang_dibayar_str)\n",
        "\n",
        "    if uang_dibayar >= harga_setelah_diskon:\n",
        "        kembalian: int = uang_dibayar - harga_setelah_diskon\n",
        "        print(\"\\n--- Struk Pembayaran ---\")\n",
        "        print(f\"Pesanan Anda    : {nama_pesanan}\")\n",
        "        print(f\"Total Awal      : Rp {harga}\")\n",
        "        if diskon_persen > 0.0:\n",
        "            print(f\"Diskon          : Rp {jumlah_diskon}\")\n",
        "        print(f\"TOTAL AKHIR     : Rp {harga_setelah_diskon}\")\n",
        "        print(f\"Uang Pembayaran : Rp {uang_dibayar}\")\n",
        "        print(f\"Kembalian       : Rp {kembalian}\")\n",
        "        print(\"--------------------------\")\n",
        "        print(\"Terima Kasih telah berbelanja!\")\n",
        "    else:\n",
        "        kekurangan: int = harga_setelah_diskon - uang_dibayar\n",
        "        print(f\"Maaf, uang Anda kurang sebesar Rp {kekurangan}. \")\n",
        "        print(\"Pembayaran dibatalkan.\")\n",
        "    print(\"=\"*30)\n"
      ],
      "metadata": {
        "colab": {
          "base_uri": "https://localhost:8080/"
        },
        "id": "AZKEA-oYBUDi",
        "outputId": "4d4a3eb4-5570-4426-83d2-783d8900c77a"
      },
      "execution_count": 24,
      "outputs": [
        {
          "output_type": "stream",
          "name": "stdout",
          "text": [
            "==============================\n",
            "SELAMAT DATANG DI KAFE GEMINI\n",
            "==============================\n",
            "Menu Makanan & Minuman:\n",
            "1. Kopi Hitam   - Rp 12.000\n",
            "2. Teh Manis    - Rp  8.000\n",
            "3. Roti Bakar   - Rp 15.000\n",
            "4. Mie Instan   - Rp 10.000\n",
            "=\n",
            "Silakan masukkan nomor pilihan Anda (1-4): 1\n",
            "Anda memesan: Kopi Hitam dengan harga Rp 12000\n",
            "______________________________\n",
            "Tidak ada diskon yang diterapkan.\n",
            "Total awal: Rp 12000\n",
            "Total yang harus dibayar: Rp 12000. Masukkan jumlah uang Anda: Rp 15000\n",
            "\n",
            "--- Struk Pembayaran ---\n",
            "Pesanan Anda    : Kopi Hitam\n",
            "Total Awal      : Rp 12000\n",
            "TOTAL AKHIR     : Rp 12000\n",
            "Uang Pembayaran : Rp 15000\n",
            "Kembalian       : Rp 3000\n",
            "--------------------------\n",
            "Terima Kasih telah berbelanja!\n",
            "==============================\n"
          ]
        }
      ]
    },
    {
      "cell_type": "code",
      "source": [],
      "metadata": {
        "id": "JsDIiHOJCg9D"
      },
      "execution_count": null,
      "outputs": []
    }
  ]
}